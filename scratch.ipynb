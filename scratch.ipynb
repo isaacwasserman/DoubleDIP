{
 "cells": [
  {
   "cell_type": "code",
   "execution_count": 2,
   "metadata": {},
   "outputs": [
    {
     "name": "stdout",
     "output_type": "stream",
     "text": [
      "Collecting scikit-video\n",
      "  Downloading scikit_video-1.1.11-py2.py3-none-any.whl (2.3 MB)\n",
      "\u001b[K     |████████████████████████████████| 2.3 MB 29.1 MB/s eta 0:00:01\n",
      "\u001b[?25hRequirement already satisfied: numpy in /home/ubuntu/.local/lib/python3.8/site-packages (from scikit-video) (1.23.5)\n",
      "Requirement already satisfied: pillow in /usr/lib/python3/dist-packages (from scikit-video) (7.0.0)\n",
      "Requirement already satisfied: scipy in /home/ubuntu/.local/lib/python3.8/site-packages (from scikit-video) (1.9.3)\n",
      "Installing collected packages: scikit-video\n",
      "Successfully installed scikit-video-1.1.11\n"
     ]
    }
   ],
   "source": [
    "!pip install scikit-video"
   ]
  },
  {
   "cell_type": "code",
   "execution_count": 1,
   "metadata": {},
   "outputs": [
    {
     "name": "stderr",
     "output_type": "stream",
     "text": [
      "/home/ubuntu/DoubleDIP/segmentation.py:367: UserWarning: Inputs have mismatched dtype.  Setting data_range based on im_true.\n",
      "  self.current_psnr = peak_signal_noise_ratio(original_image, im2)\n"
     ]
    },
    {
     "name": "stdout",
     "output_type": "stream",
     "text": [
      "Iteration   257 total_loss 0.055747 grad 2.291886 PSNR 29.541188     \r"
     ]
    }
   ],
   "source": [
    "import matplotlib.pyplot as plt\n",
    "import numpy as np\n",
    "import segmentation\n",
    "image = plt.imread('images/bream.jpg')\n",
    "image = image[:,:,:3] / 255.0\n",
    "# make channel first\n",
    "image = np.transpose(image, (2,0,1))\n",
    "segmentor = segmentation.Segmentation(\"bream\", image)\n",
    "segmentor.optimize()"
   ]
  },
  {
   "cell_type": "code",
   "execution_count": null,
   "metadata": {},
   "outputs": [],
   "source": []
  }
 ],
 "metadata": {
  "kernelspec": {
   "display_name": "pytorch",
   "language": "python",
   "name": "python3"
  },
  "language_info": {
   "codemirror_mode": {
    "name": "ipython",
    "version": 3
   },
   "file_extension": ".py",
   "mimetype": "text/x-python",
   "name": "python",
   "nbconvert_exporter": "python",
   "pygments_lexer": "ipython3",
   "version": "3.8.10"
  },
  "orig_nbformat": 4
 },
 "nbformat": 4,
 "nbformat_minor": 2
}
